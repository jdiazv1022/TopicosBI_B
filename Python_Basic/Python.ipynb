{
 "cells": [
  {
   "cell_type": "markdown",
   "id": "82488779",
   "metadata": {},
   "source": [
    "# Python for Bid Data\n",
    "### Summary\n",
    "1. Variables\n",
    "2. String\n",
    "3. Funcion Print\n",
    "4. Booleanos\n",
    "5. Loops\n",
    "6. Funciones\n",
    "7. Manejo de Excepciones"
   ]
  },
  {
   "cell_type": "code",
   "execution_count": 1,
   "id": "5e8f2774",
   "metadata": {},
   "outputs": [],
   "source": [
    "# Booleanos y Condicionales\n",
    "\n",
    "edad = 18"
   ]
  },
  {
   "cell_type": "code",
   "execution_count": 2,
   "id": "e6a67cf2",
   "metadata": {},
   "outputs": [],
   "source": [
    "# Declaracion de Varialbes\n",
    "\n",
    "edad_persona = 18\n",
    "estado = \"si\""
   ]
  },
  {
   "cell_type": "code",
   "execution_count": 3,
   "id": "5c286451",
   "metadata": {},
   "outputs": [
    {
     "data": {
      "text/plain": [
       "18"
      ]
     },
     "execution_count": 3,
     "metadata": {},
     "output_type": "execute_result"
    }
   ],
   "source": [
    "edad_persona"
   ]
  },
  {
   "cell_type": "code",
   "execution_count": 4,
   "id": "8ec223cc",
   "metadata": {},
   "outputs": [
    {
     "data": {
      "text/plain": [
       "'si'"
      ]
     },
     "execution_count": 4,
     "metadata": {},
     "output_type": "execute_result"
    }
   ],
   "source": [
    "estado"
   ]
  },
  {
   "cell_type": "code",
   "execution_count": null,
   "id": "ffcbc17e",
   "metadata": {},
   "outputs": [],
   "source": [
    "# Interactuando con el Usuario\n",
    "monto_interes = float(input(\"Ingrese el monto de interes: \"))"
   ]
  },
  {
   "cell_type": "code",
   "execution_count": 1,
   "id": "d77ae52c",
   "metadata": {},
   "outputs": [
    {
     "ename": "NameError",
     "evalue": "name 'edad_persona' is not defined",
     "output_type": "error",
     "traceback": [
      "\u001b[31m---------------------------------------------------------------------------\u001b[39m",
      "\u001b[31mNameError\u001b[39m                                 Traceback (most recent call last)",
      "\u001b[36mCell\u001b[39m\u001b[36m \u001b[39m\u001b[32mIn[1]\u001b[39m\u001b[32m, line 2\u001b[39m\n\u001b[32m      1\u001b[39m \u001b[38;5;66;03m# Operando con una Variable\u001b[39;00m\n\u001b[32m----> \u001b[39m\u001b[32m2\u001b[39m resultado = \u001b[43medad_persona\u001b[49m * \u001b[32m10\u001b[39m\n",
      "\u001b[31mNameError\u001b[39m: name 'edad_persona' is not defined"
     ]
    }
   ],
   "source": [
    "# Operando con una Variable\n",
    "resultado = edad_persona * 10"
   ]
  },
  {
   "cell_type": "code",
   "execution_count": null,
   "id": "2dcde4a6",
   "metadata": {},
   "outputs": [],
   "source": [
    "# Mostrar Variable\n",
    "resultado"
   ]
  },
  {
   "cell_type": "code",
   "execution_count": null,
   "id": "aa6a2fe5",
   "metadata": {},
   "outputs": [],
   "source": [
    "# Conocer tipo de Variable\n",
    "tyoe(resultado)"
   ]
  },
  {
   "cell_type": "code",
   "execution_count": null,
   "id": "b8545579",
   "metadata": {},
   "outputs": [],
   "source": [
    "type(estado)"
   ]
  },
  {
   "cell_type": "code",
   "execution_count": null,
   "id": "ccee9236",
   "metadata": {},
   "outputs": [],
   "source": [
    "# Operando varialbe\n",
    "25 * resultado"
   ]
  },
  {
   "cell_type": "code",
   "execution_count": null,
   "id": "83775480",
   "metadata": {},
   "outputs": [],
   "source": [
    "# Cambiando Tipo de Variable\n",
    "str_resultado = str(resultado)\n",
    "str_resultado"
   ]
  },
  {
   "cell_type": "code",
   "execution_count": null,
   "id": "f9ed2ed8",
   "metadata": {},
   "outputs": [],
   "source": [
    "int_resultado = int(str_resultado)\n",
    "int_resultado"
   ]
  },
  {
   "cell_type": "markdown",
   "id": "5d7fcebb",
   "metadata": {},
   "source": [
    "# 2. String"
   ]
  },
  {
   "cell_type": "code",
   "execution_count": null,
   "id": "5421773b",
   "metadata": {},
   "outputs": [],
   "source": [
    "# Concatenar String\n",
    "\"a\" + \"b\""
   ]
  },
  {
   "cell_type": "code",
   "execution_count": null,
   "id": "4099be80",
   "metadata": {},
   "outputs": [],
   "source": [
    "# Comillas Simples o Dobles\n",
    "text_1 = \"Mi primer texto\"\n",
    "text_2 = 'Mi segundo texto'"
   ]
  },
  {
   "cell_type": "code",
   "execution_count": null,
   "id": "ed5c36a7",
   "metadata": {},
   "outputs": [],
   "source": [
    "text_1"
   ]
  },
  {
   "cell_type": "code",
   "execution_count": null,
   "id": "227f8147",
   "metadata": {},
   "outputs": [],
   "source": [
    "text_2"
   ]
  },
  {
   "cell_type": "code",
   "execution_count": null,
   "id": "632b3ca6",
   "metadata": {},
   "outputs": [],
   "source": [
    "# Comillas tripes\n",
    "text_3 = \"\"\"\n",
    "Select * from Usuarops\n",
    "Where id = 25\n",
    "Group By año\n",
    "\"\"\"\n",
    "text_3"
   ]
  },
  {
   "cell_type": "code",
   "execution_count": null,
   "id": "2b23c1e1",
   "metadata": {},
   "outputs": [],
   "source": [
    "# Operaciones String\n",
    "text_1 = 'Hello World'\n",
    "text_2 = '5'\n",
    "text_3 = 'cinco'"
   ]
  },
  {
   "cell_type": "code",
   "execution_count": null,
   "id": "6952eb05",
   "metadata": {},
   "outputs": [],
   "source": [
    "text_1.capitalize()"
   ]
  },
  {
   "cell_type": "code",
   "execution_count": null,
   "id": "6797642a",
   "metadata": {},
   "outputs": [],
   "source": [
    "text_3.upper()"
   ]
  },
  {
   "cell_type": "code",
   "execution_count": null,
   "id": "d431726c",
   "metadata": {},
   "outputs": [],
   "source": [
    "text_3.lower()"
   ]
  },
  {
   "cell_type": "code",
   "execution_count": null,
   "id": "bcf283f5",
   "metadata": {},
   "outputs": [],
   "source": [
    "text_1.title()"
   ]
  },
  {
   "cell_type": "code",
   "execution_count": null,
   "id": "86b19a63",
   "metadata": {},
   "outputs": [],
   "source": [
    "text_1.count('l')"
   ]
  },
  {
   "cell_type": "code",
   "execution_count": null,
   "id": "f5fd69b9",
   "metadata": {},
   "outputs": [],
   "source": [
    "# Longitud de cadena\n",
    "len(text_1)"
   ]
  },
  {
   "cell_type": "code",
   "execution_count": null,
   "id": "5e770670",
   "metadata": {},
   "outputs": [],
   "source": [
    "# Dividir Texto\n",
    "text_1.split(\" \")"
   ]
  },
  {
   "cell_type": "code",
   "execution_count": null,
   "id": "c49acb9a",
   "metadata": {},
   "outputs": [],
   "source": [
    "text_1.split('W')"
   ]
  },
  {
   "cell_type": "code",
   "execution_count": null,
   "id": "a466f427",
   "metadata": {},
   "outputs": [],
   "source": [
    "# Limpiar extremos de una cadena\n",
    "text_4 = '(hello world), '\n",
    "text_4.strip()"
   ]
  },
  {
   "cell_type": "code",
   "execution_count": null,
   "id": "0f2375cc",
   "metadata": {},
   "outputs": [],
   "source": [
    "text_4.strip('(), ')"
   ]
  },
  {
   "cell_type": "code",
   "execution_count": null,
   "id": "8bb3beda",
   "metadata": {},
   "outputs": [],
   "source": [
    "# Reemplazando String\n",
    "text_5 = 'Hello World'\n",
    "text_5.replace('Hello', 'Hi')"
   ]
  },
  {
   "cell_type": "code",
   "execution_count": null,
   "id": "19a4dd32",
   "metadata": {},
   "outputs": [],
   "source": [
    "#Encontrar posicion String\n",
    "text_5.index('o')"
   ]
  },
  {
   "cell_type": "code",
   "execution_count": null,
   "id": "c734ffa3",
   "metadata": {},
   "outputs": [],
   "source": [
    "text_5.index('o', 6)"
   ]
  },
  {
   "cell_type": "code",
   "execution_count": null,
   "id": "00695e2e",
   "metadata": {},
   "outputs": [],
   "source": [
    "# Parte un String\n",
    "text_5[0]"
   ]
  },
  {
   "cell_type": "code",
   "execution_count": null,
   "id": "ec422fa7",
   "metadata": {},
   "outputs": [],
   "source": [
    "text_5[-2]"
   ]
  },
  {
   "cell_type": "code",
   "execution_count": 1,
   "id": "3469770b",
   "metadata": {},
   "outputs": [
    {
     "ename": "NameError",
     "evalue": "name 'text_5' is not defined",
     "output_type": "error",
     "traceback": [
      "\u001b[31m---------------------------------------------------------------------------\u001b[39m",
      "\u001b[31mNameError\u001b[39m                                 Traceback (most recent call last)",
      "\u001b[36mCell\u001b[39m\u001b[36m \u001b[39m\u001b[32mIn[1]\u001b[39m\u001b[32m, line 1\u001b[39m\n\u001b[32m----> \u001b[39m\u001b[32m1\u001b[39m \u001b[43mtext_5\u001b[49m[\u001b[32m4\u001b[39m:-\u001b[32m1\u001b[39m]\n",
      "\u001b[31mNameError\u001b[39m: name 'text_5' is not defined"
     ]
    }
   ],
   "source": [
    "text_5[4:-1]"
   ]
  },
  {
   "cell_type": "code",
   "execution_count": null,
   "id": "b16010be",
   "metadata": {},
   "outputs": [],
   "source": [
    "# Invertir string\n",
    "text_5[::-1]"
   ]
  },
  {
   "cell_type": "code",
   "execution_count": null,
   "id": "495bcf67",
   "metadata": {},
   "outputs": [],
   "source": [
    "text_5[4::-1]"
   ]
  },
  {
   "cell_type": "code",
   "execution_count": null,
   "id": "abdff129",
   "metadata": {},
   "outputs": [],
   "source": [
    "## Llamada a una cadena\n",
    "text_4.strip('(), ').upper().split()"
   ]
  },
  {
   "cell_type": "code",
   "execution_count": null,
   "id": "032b98b5",
   "metadata": {},
   "outputs": [],
   "source": [
    "# python f-string\n",
    "nombre = 'Jaime'\n",
    "curso = 'Topicos BI'\n",
    "f'Hola {nombre}, este es el curso {curso}'"
   ]
  },
  {
   "cell_type": "code",
   "execution_count": null,
   "id": "2e81ef0a",
   "metadata": {},
   "outputs": [],
   "source": [
    "# Otras operaciones string\n",
    "string_1 = 'hello world'\n",
    "string_2 = '5'\n",
    "string_3 = 'cinco'"
   ]
  },
  {
   "cell_type": "code",
   "execution_count": null,
   "id": "09698f12",
   "metadata": {},
   "outputs": [],
   "source": [
    "string_1.isdigit()"
   ]
  },
  {
   "cell_type": "code",
   "execution_count": null,
   "id": "b284638e",
   "metadata": {},
   "outputs": [],
   "source": [
    "string_2.isdigit()"
   ]
  },
  {
   "cell_type": "code",
   "execution_count": null,
   "id": "f2bb1cd7",
   "metadata": {},
   "outputs": [],
   "source": [
    "string_1.isalpha()"
   ]
  },
  {
   "cell_type": "code",
   "execution_count": null,
   "id": "11d13d6c",
   "metadata": {},
   "outputs": [],
   "source": [
    "string_3.isalpha()"
   ]
  },
  {
   "cell_type": "code",
   "execution_count": null,
   "id": "9d3ce8af",
   "metadata": {},
   "outputs": [],
   "source": [
    "import string\n",
    "string.ascii_lowercase"
   ]
  },
  {
   "cell_type": "code",
   "execution_count": null,
   "id": "ee147578",
   "metadata": {},
   "outputs": [],
   "source": [
    "string.ascii_uppercase"
   ]
  },
  {
   "cell_type": "code",
   "execution_count": null,
   "id": "66ff8c03",
   "metadata": {},
   "outputs": [],
   "source": [
    "string.ascii_letters"
   ]
  },
  {
   "cell_type": "code",
   "execution_count": null,
   "id": "077be202",
   "metadata": {},
   "outputs": [],
   "source": [
    "string_1.isalnum()"
   ]
  },
  {
   "cell_type": "code",
   "execution_count": null,
   "id": "3e69c0fe",
   "metadata": {},
   "outputs": [],
   "source": [
    "string_2.isalnum()"
   ]
  }
 ],
 "metadata": {
  "kernelspec": {
   "display_name": "myenv (3.13.7)",
   "language": "python",
   "name": "python3"
  },
  "language_info": {
   "codemirror_mode": {
    "name": "ipython",
    "version": 3
   },
   "file_extension": ".py",
   "mimetype": "text/x-python",
   "name": "python",
   "nbconvert_exporter": "python",
   "pygments_lexer": "ipython3",
   "version": "3.13.7"
  }
 },
 "nbformat": 4,
 "nbformat_minor": 5
}
