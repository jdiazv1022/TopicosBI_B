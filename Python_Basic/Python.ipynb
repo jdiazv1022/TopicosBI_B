{
 "cells": [
  {
   "cell_type": "markdown",
   "id": "82488779",
   "metadata": {},
   "source": [
    "# Python for Bid Data\n",
    "### Summary\n",
    "1. Variables\n",
    "2. String\n",
    "3. Funcion Print\n",
    "4. Booleanos\n",
    "5. Loops\n",
    "6. Funciones\n",
    "7. Manejo de Excepciones"
   ]
  },
  {
   "cell_type": "code",
   "execution_count": 1,
   "id": "5e8f2774",
   "metadata": {},
   "outputs": [],
   "source": [
    "# Booleanos y Condicionales\n",
    "\n",
    "edad = 18"
   ]
  },
  {
   "cell_type": "code",
   "execution_count": 2,
   "id": "e6a67cf2",
   "metadata": {},
   "outputs": [],
   "source": [
    "# Declaracion de Varialbes\n",
    "\n",
    "edad_persona = 18\n",
    "estado = \"si\""
   ]
  },
  {
   "cell_type": "code",
   "execution_count": 3,
   "id": "5c286451",
   "metadata": {},
   "outputs": [
    {
     "data": {
      "text/plain": [
       "18"
      ]
     },
     "execution_count": 3,
     "metadata": {},
     "output_type": "execute_result"
    }
   ],
   "source": [
    "edad_persona"
   ]
  },
  {
   "cell_type": "code",
   "execution_count": 4,
   "id": "8ec223cc",
   "metadata": {},
   "outputs": [
    {
     "data": {
      "text/plain": [
       "'si'"
      ]
     },
     "execution_count": 4,
     "metadata": {},
     "output_type": "execute_result"
    }
   ],
   "source": [
    "estado"
   ]
  },
  {
   "cell_type": "code",
   "execution_count": null,
   "id": "ffcbc17e",
   "metadata": {},
   "outputs": [],
   "source": [
    "# Interactuando con el Usuario\n",
    "monto_interes = float(input(\"Ingrese el monto de interes: \"))"
   ]
  },
  {
   "cell_type": "code",
   "execution_count": 1,
   "id": "d77ae52c",
   "metadata": {},
   "outputs": [
    {
     "ename": "NameError",
     "evalue": "name 'edad_persona' is not defined",
     "output_type": "error",
     "traceback": [
      "\u001b[31m---------------------------------------------------------------------------\u001b[39m",
      "\u001b[31mNameError\u001b[39m                                 Traceback (most recent call last)",
      "\u001b[36mCell\u001b[39m\u001b[36m \u001b[39m\u001b[32mIn[1]\u001b[39m\u001b[32m, line 2\u001b[39m\n\u001b[32m      1\u001b[39m \u001b[38;5;66;03m# Operando con una Variable\u001b[39;00m\n\u001b[32m----> \u001b[39m\u001b[32m2\u001b[39m resultado = \u001b[43medad_persona\u001b[49m * \u001b[32m10\u001b[39m\n",
      "\u001b[31mNameError\u001b[39m: name 'edad_persona' is not defined"
     ]
    }
   ],
   "source": [
    "# Operando con una Variable\n",
    "resultado = edad_persona * 10"
   ]
  },
  {
   "cell_type": "code",
   "execution_count": null,
   "id": "2dcde4a6",
   "metadata": {},
   "outputs": [],
   "source": [
    "# Mostrar Variable\n",
    "resultado"
   ]
  },
  {
   "cell_type": "code",
   "execution_count": null,
   "id": "aa6a2fe5",
   "metadata": {},
   "outputs": [],
   "source": [
    "# Conocer tipo de Variable\n",
    "tyoe(resultado)"
   ]
  },
  {
   "cell_type": "code",
   "execution_count": null,
   "id": "b8545579",
   "metadata": {},
   "outputs": [],
   "source": [
    "type(estado)"
   ]
  },
  {
   "cell_type": "code",
   "execution_count": null,
   "id": "ccee9236",
   "metadata": {},
   "outputs": [],
   "source": [
    "# Operando varialbe\n",
    "25 * resultado"
   ]
  },
  {
   "cell_type": "code",
   "execution_count": null,
   "id": "83775480",
   "metadata": {},
   "outputs": [],
   "source": [
    "# Cambiando Tipo de Variable\n",
    "str_resultado = str(resultado)\n",
    "str_resultado"
   ]
  },
  {
   "cell_type": "code",
   "execution_count": null,
   "id": "f9ed2ed8",
   "metadata": {},
   "outputs": [],
   "source": [
    "int_resultado = int(str_resultado)\n",
    "int_resultado"
   ]
  },
  {
   "cell_type": "markdown",
   "id": "5d7fcebb",
   "metadata": {},
   "source": [
    "# 2. String"
   ]
  },
  {
   "cell_type": "code",
   "execution_count": null,
   "id": "5421773b",
   "metadata": {},
   "outputs": [],
   "source": [
    "# Concatenar String\n",
    "\"a\" + \"b\""
   ]
  },
  {
   "cell_type": "code",
   "execution_count": null,
   "id": "4099be80",
   "metadata": {},
   "outputs": [],
   "source": [
    "# Comillas Simples o Dobles\n",
    "text_1 = \"Mi primer texto\"\n",
    "text_2 = 'Mi segundo texto'"
   ]
  },
  {
   "cell_type": "code",
   "execution_count": null,
   "id": "ed5c36a7",
   "metadata": {},
   "outputs": [],
   "source": [
    "text_1"
   ]
  },
  {
   "cell_type": "code",
   "execution_count": null,
   "id": "227f8147",
   "metadata": {},
   "outputs": [],
   "source": [
    "text_2"
   ]
  },
  {
   "cell_type": "code",
   "execution_count": null,
   "id": "632b3ca6",
   "metadata": {},
   "outputs": [],
   "source": [
    "# Comillas tripes\n",
    "text_3 = \"\"\"\n",
    "Select * from Usuarops\n",
    "Where id = 25\n",
    "Group By año\n",
    "\"\"\"\n",
    "text_3"
   ]
  },
  {
   "cell_type": "code",
   "execution_count": null,
   "id": "2b23c1e1",
   "metadata": {},
   "outputs": [],
   "source": [
    "# Operaciones String\n",
    "text_1 = 'Hello World'\n",
    "text_2 = '5'\n",
    "text_3 = 'cinco'"
   ]
  },
  {
   "cell_type": "code",
   "execution_count": null,
   "id": "6952eb05",
   "metadata": {},
   "outputs": [],
   "source": [
    "text_1.capitalize()"
   ]
  },
  {
   "cell_type": "code",
   "execution_count": null,
   "id": "6797642a",
   "metadata": {},
   "outputs": [],
   "source": [
    "text_3.upper()"
   ]
  },
  {
   "cell_type": "code",
   "execution_count": null,
   "id": "d431726c",
   "metadata": {},
   "outputs": [],
   "source": [
    "text_3.lower()"
   ]
  },
  {
   "cell_type": "code",
   "execution_count": null,
   "id": "bcf283f5",
   "metadata": {},
   "outputs": [],
   "source": [
    "text_1.title()"
   ]
  },
  {
   "cell_type": "code",
   "execution_count": null,
   "id": "86b19a63",
   "metadata": {},
   "outputs": [],
   "source": [
    "text_1.count('l')"
   ]
  },
  {
   "cell_type": "code",
   "execution_count": null,
   "id": "f5fd69b9",
   "metadata": {},
   "outputs": [],
   "source": [
    "# Longitud de cadena\n",
    "len(text_1)"
   ]
  },
  {
   "cell_type": "code",
   "execution_count": null,
   "id": "5e770670",
   "metadata": {},
   "outputs": [],
   "source": [
    "# Dividir Texto\n",
    "text_1.split(\" \")"
   ]
  },
  {
   "cell_type": "code",
   "execution_count": null,
   "id": "c49acb9a",
   "metadata": {},
   "outputs": [],
   "source": [
    "text_1.split('W')"
   ]
  },
  {
   "cell_type": "code",
   "execution_count": null,
   "id": "a466f427",
   "metadata": {},
   "outputs": [],
   "source": [
    "# Limpiar extremos de una cadena\n",
    "text_4 = '(hello world), '\n",
    "text_4.strip()"
   ]
  },
  {
   "cell_type": "code",
   "execution_count": null,
   "id": "0f2375cc",
   "metadata": {},
   "outputs": [],
   "source": [
    "text_4.strip('(), ')"
   ]
  },
  {
   "cell_type": "code",
   "execution_count": null,
   "id": "8bb3beda",
   "metadata": {},
   "outputs": [],
   "source": [
    "# Reemplazando String\n",
    "text_5 = 'Hello World'\n",
    "text_5.replace('Hello', 'Hi')"
   ]
  },
  {
   "cell_type": "code",
   "execution_count": null,
   "id": "19a4dd32",
   "metadata": {},
   "outputs": [],
   "source": [
    "#Encontrar posicion String\n",
    "text_5.index('o')"
   ]
  },
  {
   "cell_type": "code",
   "execution_count": null,
   "id": "c734ffa3",
   "metadata": {},
   "outputs": [],
   "source": [
    "text_5.index('o', 6)"
   ]
  },
  {
   "cell_type": "code",
   "execution_count": null,
   "id": "00695e2e",
   "metadata": {},
   "outputs": [],
   "source": [
    "# Parte un String\n",
    "text_5[0]"
   ]
  },
  {
   "cell_type": "code",
   "execution_count": null,
   "id": "ec422fa7",
   "metadata": {},
   "outputs": [],
   "source": [
    "text_5[-2]"
   ]
  },
  {
   "cell_type": "code",
   "execution_count": 1,
   "id": "3469770b",
   "metadata": {},
   "outputs": [
    {
     "ename": "NameError",
     "evalue": "name 'text_5' is not defined",
     "output_type": "error",
     "traceback": [
      "\u001b[31m---------------------------------------------------------------------------\u001b[39m",
      "\u001b[31mNameError\u001b[39m                                 Traceback (most recent call last)",
      "\u001b[36mCell\u001b[39m\u001b[36m \u001b[39m\u001b[32mIn[1]\u001b[39m\u001b[32m, line 1\u001b[39m\n\u001b[32m----> \u001b[39m\u001b[32m1\u001b[39m \u001b[43mtext_5\u001b[49m[\u001b[32m4\u001b[39m:-\u001b[32m1\u001b[39m]\n",
      "\u001b[31mNameError\u001b[39m: name 'text_5' is not defined"
     ]
    }
   ],
   "source": [
    "text_5[4:-1]"
   ]
  },
  {
   "cell_type": "code",
   "execution_count": null,
   "id": "b16010be",
   "metadata": {},
   "outputs": [],
   "source": [
    "# Invertir string\n",
    "text_5[::-1]"
   ]
  },
  {
   "cell_type": "code",
   "execution_count": null,
   "id": "495bcf67",
   "metadata": {},
   "outputs": [],
   "source": [
    "text_5[4::-1]"
   ]
  },
  {
   "cell_type": "code",
   "execution_count": null,
   "id": "abdff129",
   "metadata": {},
   "outputs": [],
   "source": [
    "## Llamada a una cadena\n",
    "text_4.strip('(), ').upper().split()"
   ]
  },
  {
   "cell_type": "code",
   "execution_count": null,
   "id": "032b98b5",
   "metadata": {},
   "outputs": [],
   "source": [
    "# python f-string\n",
    "nombre = 'Jaime'\n",
    "curso = 'Topicos BI'\n",
    "f'Hola {nombre}, este es el curso {curso}'"
   ]
  },
  {
   "cell_type": "code",
   "execution_count": null,
   "id": "2e81ef0a",
   "metadata": {},
   "outputs": [],
   "source": [
    "# Otras operaciones string\n",
    "string_1 = 'hello world'\n",
    "string_2 = '5'\n",
    "string_3 = 'cinco'"
   ]
  },
  {
   "cell_type": "code",
   "execution_count": null,
   "id": "09698f12",
   "metadata": {},
   "outputs": [],
   "source": [
    "string_1.isdigit()"
   ]
  },
  {
   "cell_type": "code",
   "execution_count": null,
   "id": "b284638e",
   "metadata": {},
   "outputs": [],
   "source": [
    "string_2.isdigit()"
   ]
  },
  {
   "cell_type": "code",
   "execution_count": null,
   "id": "f2bb1cd7",
   "metadata": {},
   "outputs": [],
   "source": [
    "string_1.isalpha()"
   ]
  },
  {
   "cell_type": "code",
   "execution_count": null,
   "id": "11d13d6c",
   "metadata": {},
   "outputs": [],
   "source": [
    "string_3.isalpha()"
   ]
  },
  {
   "cell_type": "code",
   "execution_count": null,
   "id": "9d3ce8af",
   "metadata": {},
   "outputs": [],
   "source": [
    "import string\n",
    "string.ascii_lowercase"
   ]
  },
  {
   "cell_type": "code",
   "execution_count": null,
   "id": "ee147578",
   "metadata": {},
   "outputs": [],
   "source": [
    "string.ascii_uppercase"
   ]
  },
  {
   "cell_type": "code",
   "execution_count": null,
   "id": "66ff8c03",
   "metadata": {},
   "outputs": [],
   "source": [
    "string.ascii_letters"
   ]
  },
  {
   "cell_type": "code",
   "execution_count": null,
   "id": "077be202",
   "metadata": {},
   "outputs": [],
   "source": [
    "string_1.isalnum()"
   ]
  },
  {
   "cell_type": "code",
   "execution_count": null,
   "id": "3e69c0fe",
   "metadata": {},
   "outputs": [],
   "source": [
    "string_2.isalnum()"
   ]
  },
  {
   "cell_type": "markdown",
   "id": "5f03474b",
   "metadata": {},
   "source": [
    "# 3. Funcion Print"
   ]
  },
  {
   "cell_type": "code",
   "execution_count": null,
   "id": "849d92b6",
   "metadata": {},
   "outputs": [],
   "source": [
    "print(string_3)"
   ]
  },
  {
   "cell_type": "code",
   "execution_count": null,
   "id": "f37259ee",
   "metadata": {},
   "outputs": [],
   "source": [
    "# Saber el tipo de dato\n",
    "print(type(string_3))"
   ]
  },
  {
   "cell_type": "code",
   "execution_count": null,
   "id": "a3d419a8",
   "metadata": {},
   "outputs": [],
   "source": [
    "print(type(7))"
   ]
  },
  {
   "cell_type": "code",
   "execution_count": null,
   "id": "2b22c0d7",
   "metadata": {},
   "outputs": [],
   "source": [
    "print(\"Mi nombre es: \",nombre)\n",
    "print(f'Mi nombres es: {nombre}')"
   ]
  },
  {
   "cell_type": "code",
   "execution_count": 1,
   "id": "ed71f450",
   "metadata": {},
   "outputs": [
    {
     "name": "stdout",
     "output_type": "stream",
     "text": [
      "Los datos del curso son: \n",
      "Nombre \t\t: Topicos Especiales BI\n",
      "Cliclo \t\t: Sexto\n",
      "Tipo curso \t: Electivo\n"
     ]
    }
   ],
   "source": [
    "print(\"Los datos del curso son: \\nNombre \\t\\t: Topicos \" \\\n",
    "\"Especiales BI\\nCliclo \\t\\t: Sexto\\nTipo curso \\t: Electivo\")"
   ]
  },
  {
   "cell_type": "code",
   "execution_count": 3,
   "id": "b5c8d94f",
   "metadata": {},
   "outputs": [
    {
     "name": "stdout",
     "output_type": "stream",
     "text": [
      "Los datos del curso son: \\nNombre \\t\\t: Topicos Especiales BI\\nCliclo \\t\\t: Sexto\\nTipo curso \\t: Electivo\n"
     ]
    }
   ],
   "source": [
    "print(r\"Los datos del curso son: \\nNombre \\t\\t: Topicos Especiales BI\\nCliclo \\t\\t: Sexto\\nTipo curso \\t: Electivo\")"
   ]
  },
  {
   "cell_type": "markdown",
   "id": "f4973f59",
   "metadata": {},
   "source": [
    "# 4. Booleanos y Condicionales"
   ]
  },
  {
   "cell_type": "code",
   "execution_count": 4,
   "id": "6fbefd6c",
   "metadata": {},
   "outputs": [
    {
     "name": "stdout",
     "output_type": "stream",
     "text": [
      "<class 'bool'>\n"
     ]
    }
   ],
   "source": [
    "final_page = True\n",
    "print(type(final_page))"
   ]
  },
  {
   "cell_type": "code",
   "execution_count": null,
   "id": "6b7d1c0d",
   "metadata": {},
   "outputs": [
    {
     "name": "stdout",
     "output_type": "stream",
     "text": [
      "No es el final de la pagina\n"
     ]
    }
   ],
   "source": [
    "if final_page:\n",
    "    print(\"Final de la pagina\")\n",
    "else:\n",
    "    print(\"No es el final de la pagina\")"
   ]
  },
  {
   "cell_type": "code",
   "execution_count": null,
   "id": "f293f9b9",
   "metadata": {},
   "outputs": [],
   "source": [
    "print(bool())"
   ]
  },
  {
   "cell_type": "code",
   "execution_count": 8,
   "id": "2d50476a",
   "metadata": {},
   "outputs": [
    {
     "name": "stdout",
     "output_type": "stream",
     "text": [
      "Booleano para ' ' False\n"
     ]
    }
   ],
   "source": [
    "print(f\"Booleano para ' ' {bool('')}\") "
   ]
  },
  {
   "cell_type": "code",
   "execution_count": null,
   "id": "7fb19dce",
   "metadata": {},
   "outputs": [
    {
     "name": "stdout",
     "output_type": "stream",
     "text": [
      "Booleano para ': True\n"
     ]
    }
   ],
   "source": [
    "print(f\"Booleano para ': {bool(' ')}\") "
   ]
  },
  {
   "cell_type": "code",
   "execution_count": 11,
   "id": "674214e6",
   "metadata": {},
   "outputs": [
    {
     "name": "stdout",
     "output_type": "stream",
     "text": [
      "Booleano para []: False\n"
     ]
    }
   ],
   "source": [
    "print(f\"Booleano para []: {bool([])}\") "
   ]
  },
  {
   "cell_type": "code",
   "execution_count": 13,
   "id": "444c7f59",
   "metadata": {},
   "outputs": [
    {
     "name": "stdout",
     "output_type": "stream",
     "text": [
      "Booleano para {}: False\n"
     ]
    }
   ],
   "source": [
    "print(f\"Booleano para {'{}'}: {bool({})}\") "
   ]
  },
  {
   "cell_type": "code",
   "execution_count": 15,
   "id": "e86ce284",
   "metadata": {},
   "outputs": [
    {
     "name": "stdout",
     "output_type": "stream",
     "text": [
      "Booleano para 0: False\n",
      "Booleano para 1: True\n",
      "Booleano para 'Hola': True\n",
      "Booleano para ['Hola']: True\n"
     ]
    }
   ],
   "source": [
    "print(f\"Booleano para 0: {bool(0)}\") \n",
    "print(f\"Booleano para 1: {bool(1)}\") \n",
    "print(f\"Booleano para 'Hola': {bool('Hola')}\") \n",
    "print(f\"Booleano para ['Hola']: {bool(['Hola'])}\") "
   ]
  },
  {
   "cell_type": "code",
   "execution_count": 16,
   "id": "4b20a4ba",
   "metadata": {},
   "outputs": [
    {
     "data": {
      "text/plain": [
       "False"
      ]
     },
     "execution_count": 16,
     "metadata": {},
     "output_type": "execute_result"
    }
   ],
   "source": [
    "# operadores logicos\n",
    "not True"
   ]
  },
  {
   "cell_type": "code",
   "execution_count": 17,
   "id": "4777058c",
   "metadata": {},
   "outputs": [
    {
     "data": {
      "text/plain": [
       "True"
      ]
     },
     "execution_count": 17,
     "metadata": {},
     "output_type": "execute_result"
    }
   ],
   "source": [
    "not False"
   ]
  },
  {
   "cell_type": "code",
   "execution_count": 18,
   "id": "3639c06c",
   "metadata": {},
   "outputs": [
    {
     "data": {
      "text/plain": [
       "True"
      ]
     },
     "execution_count": 18,
     "metadata": {},
     "output_type": "execute_result"
    }
   ],
   "source": [
    "True and True"
   ]
  },
  {
   "cell_type": "code",
   "execution_count": 19,
   "id": "abb38977",
   "metadata": {},
   "outputs": [
    {
     "data": {
      "text/plain": [
       "False"
      ]
     },
     "execution_count": 19,
     "metadata": {},
     "output_type": "execute_result"
    }
   ],
   "source": [
    "True and False"
   ]
  },
  {
   "cell_type": "code",
   "execution_count": 20,
   "id": "e7f05f31",
   "metadata": {},
   "outputs": [
    {
     "ename": "TypeError",
     "evalue": "'<' not supported between instances of 'int' and 'str'",
     "output_type": "error",
     "traceback": [
      "\u001b[31m---------------------------------------------------------------------------\u001b[39m",
      "\u001b[31mTypeError\u001b[39m                                 Traceback (most recent call last)",
      "\u001b[36mCell\u001b[39m\u001b[36m \u001b[39m\u001b[32mIn[20]\u001b[39m\u001b[32m, line 2\u001b[39m\n\u001b[32m      1\u001b[39m \u001b[38;5;66;03m# comparando\u001b[39;00m\n\u001b[32m----> \u001b[39m\u001b[32m2\u001b[39m \u001b[32;43m1\u001b[39;49m\u001b[43m \u001b[49m\u001b[43m<\u001b[49m\u001b[43m \u001b[49m\u001b[33;43m'\u001b[39;49m\u001b[33;43muno\u001b[39;49m\u001b[33;43m'\u001b[39;49m\n",
      "\u001b[31mTypeError\u001b[39m: '<' not supported between instances of 'int' and 'str'"
     ]
    }
   ],
   "source": [
    "# comparando\n",
    "1 < 'uno'"
   ]
  },
  {
   "cell_type": "markdown",
   "id": "85ef33c6",
   "metadata": {},
   "source": [
    "# 5. Loops"
   ]
  },
  {
   "cell_type": "code",
   "execution_count": 21,
   "id": "f7c074a4",
   "metadata": {},
   "outputs": [
    {
     "name": "stdout",
     "output_type": "stream",
     "text": [
      "H\n",
      "o\n",
      "l\n",
      "a\n"
     ]
    }
   ],
   "source": [
    "# for loops\n",
    "for letra in 'Hola':\n",
    "    print(letra)"
   ]
  },
  {
   "cell_type": "code",
   "execution_count": null,
   "id": "47bba4a7",
   "metadata": {},
   "outputs": [
    {
     "name": "stdout",
     "output_type": "stream",
     "text": [
      "Palabras: ['Hola', 'a', 'todos']\n"
     ]
    }
   ],
   "source": [
    "my_string = 'Hola a todos'\n",
    "palabras = my_string.split()\n",
    "print(f'Palabras: {palabras}')"
   ]
  },
  {
   "cell_type": "code",
   "execution_count": 25,
   "id": "4a699c3d",
   "metadata": {},
   "outputs": [
    {
     "ename": "NameError",
     "evalue": "name 'palabras' is not defined",
     "output_type": "error",
     "traceback": [
      "\u001b[31m---------------------------------------------------------------------------\u001b[39m",
      "\u001b[31mNameError\u001b[39m                                 Traceback (most recent call last)",
      "\u001b[36mCell\u001b[39m\u001b[36m \u001b[39m\u001b[32mIn[25]\u001b[39m\u001b[32m, line 1\u001b[39m\n\u001b[32m----> \u001b[39m\u001b[32m1\u001b[39m \u001b[38;5;28;01mfor\u001b[39;00m palabra \u001b[38;5;129;01min\u001b[39;00m \u001b[43mpalabras\u001b[49m:\n\u001b[32m      2\u001b[39m     \u001b[38;5;28mprint\u001b[39m(palabra)\n",
      "\u001b[31mNameError\u001b[39m: name 'palabras' is not defined"
     ]
    }
   ],
   "source": [
    "for palabra in palabras:\n",
    "    print(palabra)"
   ]
  },
  {
   "cell_type": "code",
   "execution_count": null,
   "id": "1987ca22",
   "metadata": {},
   "outputs": [],
   "source": [
    "# Enumerar en for loop"
   ]
  },
  {
   "cell_type": "code",
   "execution_count": 24,
   "id": "5ebe6793",
   "metadata": {},
   "outputs": [
    {
     "ename": "NameError",
     "evalue": "name 'palabras' is not defined",
     "output_type": "error",
     "traceback": [
      "\u001b[31m---------------------------------------------------------------------------\u001b[39m",
      "\u001b[31mNameError\u001b[39m                                 Traceback (most recent call last)",
      "\u001b[36mCell\u001b[39m\u001b[36m \u001b[39m\u001b[32mIn[24]\u001b[39m\u001b[32m, line 1\u001b[39m\n\u001b[32m----> \u001b[39m\u001b[32m1\u001b[39m \u001b[38;5;28;01mfor\u001b[39;00m idx, palabra \u001b[38;5;129;01min\u001b[39;00m \u001b[38;5;28menumerate\u001b[39m(\u001b[43mpalabras\u001b[49m):\n\u001b[32m      2\u001b[39m     \u001b[38;5;28mprint\u001b[39m(idx, palabra)\n",
      "\u001b[31mNameError\u001b[39m: name 'palabras' is not defined"
     ]
    }
   ],
   "source": [
    "for idx, palabra in enumerate(palabras):\n",
    "    print(idx, palabra)"
   ]
  },
  {
   "cell_type": "code",
   "execution_count": 26,
   "id": "144f923c",
   "metadata": {},
   "outputs": [
    {
     "ename": "NameError",
     "evalue": "name 'palabras' is not defined",
     "output_type": "error",
     "traceback": [
      "\u001b[31m---------------------------------------------------------------------------\u001b[39m",
      "\u001b[31mNameError\u001b[39m                                 Traceback (most recent call last)",
      "\u001b[36mCell\u001b[39m\u001b[36m \u001b[39m\u001b[32mIn[26]\u001b[39m\u001b[32m, line 1\u001b[39m\n\u001b[32m----> \u001b[39m\u001b[32m1\u001b[39m \u001b[38;5;28;01mfor\u001b[39;00m idx, palabra \u001b[38;5;129;01min\u001b[39;00m \u001b[38;5;28menumerate\u001b[39m(\u001b[43mpalabras\u001b[49m, \u001b[32m1\u001b[39m):\n\u001b[32m      2\u001b[39m     \u001b[38;5;28mprint\u001b[39m(idx, palabra)\n",
      "\u001b[31mNameError\u001b[39m: name 'palabras' is not defined"
     ]
    }
   ],
   "source": [
    "for idx, palabra in enumerate(palabras, 1):\n",
    "    print(idx, palabra)"
   ]
  },
  {
   "cell_type": "code",
   "execution_count": 28,
   "id": "a7ac58d1",
   "metadata": {},
   "outputs": [
    {
     "name": "stdout",
     "output_type": "stream",
     "text": [
      "Este es el intento numero 1 \n",
      "Este es el intento numero 2 \n",
      "Este es el intento numero 3 \n",
      "Este es el intento numero 4 \n",
      "Este es el intento numero 5 \n"
     ]
    }
   ],
   "source": [
    "# While loop\n",
    "max_intentos = 5\n",
    "intento = 1\n",
    "while intento <= max_intentos:\n",
    "    print(f'Este es el intento numero {intento} ')\n",
    "    intento+=1"
   ]
  }
 ],
 "metadata": {
  "kernelspec": {
   "display_name": "myenv (3.13.7)",
   "language": "python",
   "name": "python3"
  },
  "language_info": {
   "codemirror_mode": {
    "name": "ipython",
    "version": 3
   },
   "file_extension": ".py",
   "mimetype": "text/x-python",
   "name": "python",
   "nbconvert_exporter": "python",
   "pygments_lexer": "ipython3",
   "version": "3.13.7"
  }
 },
 "nbformat": 4,
 "nbformat_minor": 5
}
