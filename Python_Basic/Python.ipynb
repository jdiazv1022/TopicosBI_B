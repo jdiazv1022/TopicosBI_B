{
 "cells": [
  {
   "cell_type": "markdown",
   "id": "32c1e4c9",
   "metadata": {},
   "source": [
    "# Python for Bid Data\n",
    "### Summary\n",
    "1. Variables\n",
    "2. String\n",
    "3. Funcion Print\n",
    "4. Booleanos\n",
    "5. Loops\n",
    "6. Funciones\n",
    "7. Manejo de Excepciones\n"
   ]
  },
  {
   "cell_type": "markdown",
   "id": "e92e1f92",
   "metadata": {},
   "source": [
    "# Booleanos y Condicionales \n",
    "\n",
    "edad = 18"
   ]
  },
  {
   "cell_type": "code",
   "execution_count": null,
   "id": "e6a67cf2",
   "metadata": {},
   "outputs": [],
   "source": [
    "# Declaracion de Varialbes\n",
    "\n",
    "edad_persona = 18\n",
    "estado = \"si\""
   ]
  },
  {
   "cell_type": "code",
   "execution_count": null,
   "id": "5c286451",
   "metadata": {},
   "outputs": [],
   "source": [
    "edad_persona"
   ]
  },
  {
   "cell_type": "code",
   "execution_count": null,
   "id": "8ec223cc",
   "metadata": {},
   "outputs": [],
   "source": [
    "estado"
   ]
  }
 ],
 "metadata": {
  "language_info": {
   "name": "python"
  }
 },
 "nbformat": 4,
 "nbformat_minor": 5
}
