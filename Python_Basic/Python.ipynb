{
 "cells": [
  {
   "cell_type": "markdown",
   "id": "82488779",
   "metadata": {},
   "source": [
    "# Python for Bid Data\n",
    "### Summary\n",
    "1. Variables\n",
    "2. String\n",
    "3. Funcion Print\n",
    "4. Booleanos\n",
    "5. Loops\n",
    "6. Funciones\n",
    "7. Manejo de Excepciones"
   ]
  },
  {
   "cell_type": "code",
   "execution_count": null,
   "id": "5e8f2774",
   "metadata": {},
   "outputs": [],
   "source": [
    "# Booleanos y Condicionales\n",
    "\n",
    "edad = 18"
   ]
  },
  {
   "cell_type": "code",
   "execution_count": null,
   "id": "e6a67cf2",
   "metadata": {},
   "outputs": [],
   "source": [
    "# Declaracion de Varialbes\n",
    "\n",
    "edad_persona = 18\n",
    "estado = \"si\""
   ]
  },
  {
   "cell_type": "code",
   "execution_count": null,
   "id": "5c286451",
   "metadata": {},
   "outputs": [],
   "source": [
    "edad_persona"
   ]
  },
  {
   "cell_type": "code",
   "execution_count": null,
   "id": "8ec223cc",
   "metadata": {},
   "outputs": [],
   "source": [
    "estado"
   ]
  },
  {
   "cell_type": "code",
   "execution_count": null,
   "id": "ffcbc17e",
   "metadata": {},
   "outputs": [],
   "source": [
    "# Interactuando con el Usuario\n",
    "monto_interes = float(input(\"Ingrese el monto de interes: \"))"
   ]
  },
  {
   "cell_type": "code",
   "execution_count": null,
   "id": "d77ae52c",
   "metadata": {},
   "outputs": [],
   "source": [
    "# Operando con una Variable\n",
    "resultado = edad_persona * 10"
   ]
  },
  {
   "cell_type": "code",
   "execution_count": null,
   "id": "2dcde4a6",
   "metadata": {},
   "outputs": [],
   "source": [
    "# Mostrar Variable\n",
    "resultado"
   ]
  },
  {
   "cell_type": "code",
   "execution_count": null,
   "id": "aa6a2fe5",
   "metadata": {},
   "outputs": [],
   "source": [
    "# Conocer tipo de Variable\n",
    "tyoe(resultado)"
   ]
  },
  {
   "cell_type": "code",
   "execution_count": null,
   "id": "b8545579",
   "metadata": {},
   "outputs": [],
   "source": [
    "type(estado)"
   ]
  },
  {
   "cell_type": "code",
   "execution_count": null,
   "id": "ccee9236",
   "metadata": {},
   "outputs": [],
   "source": [
    "# Operando varialbe\n",
    "25 * resultado"
   ]
  },
  {
   "cell_type": "code",
   "execution_count": null,
   "id": "83775480",
   "metadata": {},
   "outputs": [],
   "source": [
    "# Cambiando Tipo de Variable\n",
    "str_resultado = str(resultado)\n",
    "str_resultado"
   ]
  },
  {
   "cell_type": "code",
   "execution_count": null,
   "id": "f9ed2ed8",
   "metadata": {},
   "outputs": [],
   "source": [
    "int_resultado = int(str_resultado)\n",
    "int_resultado"
   ]
  },
  {
   "cell_type": "markdown",
   "id": "5d7fcebb",
   "metadata": {},
   "source": [
    "# 2. String"
   ]
  },
  {
   "cell_type": "code",
   "execution_count": null,
   "id": "5421773b",
   "metadata": {},
   "outputs": [],
   "source": [
    "# Concatenar String\n",
    "\"a\" + \"b\""
   ]
  },
  {
   "cell_type": "code",
   "execution_count": null,
   "id": "4099be80",
   "metadata": {},
   "outputs": [],
   "source": [
    "# Comillas Simples o Dobles\n",
    "text_1 = \"Mi primer texto\"\n",
    "text_2 = 'Mi segundo texto'"
   ]
  },
  {
   "cell_type": "code",
   "execution_count": null,
   "id": "ed5c36a7",
   "metadata": {},
   "outputs": [],
   "source": [
    "text_1"
   ]
  },
  {
   "cell_type": "code",
   "execution_count": null,
   "id": "227f8147",
   "metadata": {},
   "outputs": [],
   "source": [
    "text_2"
   ]
  },
  {
   "cell_type": "code",
   "execution_count": null,
   "id": "632b3ca6",
   "metadata": {},
   "outputs": [],
   "source": [
    "# Comillas tripes\n",
    "text_3 = \"\"\"\n",
    "Select * from Usuarops\n",
    "Where id = 25\n",
    "Group By año\n",
    "\"\"\"\n",
    "text_3"
   ]
  },
  {
   "cell_type": "code",
   "execution_count": null,
   "id": "2b23c1e1",
   "metadata": {},
   "outputs": [],
   "source": [
    "# Operaciones String\n",
    "text_1 = 'Hello World'\n",
    "text_2 = '5'\n",
    "text_3 = 'cinco'"
   ]
  },
  {
   "cell_type": "code",
   "execution_count": null,
   "id": "6952eb05",
   "metadata": {},
   "outputs": [],
   "source": [
    "text_1.capitalize()"
   ]
  },
  {
   "cell_type": "code",
   "execution_count": null,
   "id": "6797642a",
   "metadata": {},
   "outputs": [],
   "source": [
    "text_3.upper()"
   ]
  }
 ],
 "metadata": {
  "language_info": {
   "name": "python"
  }
 },
 "nbformat": 4,
 "nbformat_minor": 5
}
